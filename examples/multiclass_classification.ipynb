{
 "cells": [
  {
   "cell_type": "code",
   "execution_count": null,
   "metadata": {},
   "outputs": [],
   "source": [
    "from pathlib import Path\n",
    "\n",
    "import pandas as pd\n",
    "from catboost.datasets import rotten_tomatoes\n",
    "from ml_trainer.tabular.models.catboost import CatBoostModel\n",
    "from ml_trainer.tabular.trainer import Trainer\n",
    "from sklearn.model_selection import KFold"
   ]
  },
  {
   "cell_type": "code",
   "execution_count": null,
   "metadata": {},
   "outputs": [],
   "source": [
    "OUT_DIR = Path(\"../data\") / \"output\" / \"multiclass_classification\""
   ]
  },
  {
   "cell_type": "markdown",
   "metadata": {},
   "source": [
    "### Load Data\n"
   ]
  },
  {
   "cell_type": "code",
   "execution_count": null,
   "metadata": {},
   "outputs": [],
   "source": [
    "train_df, test_df = rotten_tomatoes()\n",
    "train_df = train_df.sample(1000, random_state=8823).reset_index(drop=True)  # レコード数を減らす\n",
    "test_df = test_df.sample(1000, random_state=8823).reset_index(drop=True)"
   ]
  },
  {
   "cell_type": "code",
   "execution_count": null,
   "metadata": {},
   "outputs": [],
   "source": [
    "target_col = \"rating_10\"\n",
    "cat_feature_names = [\"rating_MPAA\", \"studio\", \"fresh\"]\n",
    "feature_names = [\"runtime\", \"fresh\", \"date_int\", \"rating_MPAA\", \"studio\"]\n",
    "\n",
    "# 欠損値処理\n",
    "train_df.loc[:, cat_feature_names] = train_df[cat_feature_names].fillna(\"missing\")\n",
    "test_df.loc[:, cat_feature_names] = test_df[cat_feature_names].fillna(\"missing\")"
   ]
  },
  {
   "cell_type": "markdown",
   "metadata": {},
   "source": [
    "### Train\n"
   ]
  },
  {
   "cell_type": "code",
   "execution_count": null,
   "metadata": {},
   "outputs": [],
   "source": [
    "trainer = Trainer(\n",
    "    estimators=[\n",
    "        CatBoostModel(\n",
    "            feature_names=feature_names,\n",
    "            estimator_name=\"catboostclassifier\",\n",
    "            params={\n",
    "                \"loss_function\": \"MultiClass\",\n",
    "                \"early_stopping_rounds\": 10,\n",
    "                \"random_state\": i,\n",
    "                \"cat_features\": cat_feature_names,\n",
    "            },\n",
    "            use_cache=False,\n",
    "        )\n",
    "        for i in range(2)  # seed average\n",
    "    ],\n",
    "    out_dir=OUT_DIR,\n",
    "    split_type=KFold,\n",
    "    n_splits=4,\n",
    "    seed=8823,\n",
    "    task_type=\"multiclass\",\n",
    "    ensemble=True,  # mean ensemble\n",
    ")\n",
    "\n",
    "oof_preds = trainer.train_cv(X_train=train_df, y_train=train_df[target_col])\n",
    "trainer.scores_df"
   ]
  },
  {
   "cell_type": "markdown",
   "metadata": {},
   "source": [
    "### Importance\n"
   ]
  },
  {
   "cell_type": "code",
   "execution_count": null,
   "metadata": {},
   "outputs": [],
   "source": [
    "importances = trainer.make_plot_feature_importances()"
   ]
  },
  {
   "cell_type": "code",
   "execution_count": null,
   "metadata": {},
   "outputs": [],
   "source": [
    "trainer.make_plot_confusion_matrix(y=train_df[target_col], out_dir=None, palette=\"GnBu\")"
   ]
  },
  {
   "cell_type": "markdown",
   "metadata": {},
   "source": [
    "### Predict\n"
   ]
  },
  {
   "cell_type": "code",
   "execution_count": null,
   "metadata": {},
   "outputs": [],
   "source": [
    "fold_means = trainer.predict_cv(X=test_df)\n",
    "fold_means = pd.DataFrame(fold_means)  # to DataFrame from dict\n",
    "fold_means"
   ]
  },
  {
   "cell_type": "markdown",
   "metadata": {},
   "source": [
    "### Save & Load Trainer\n"
   ]
  },
  {
   "cell_type": "code",
   "execution_count": null,
   "metadata": {},
   "outputs": [],
   "source": [
    "trainer.save()  # save the trainer\n",
    "trainer_new = Trainer.load(OUT_DIR / \"trainer.pkl\")  # load the trainer"
   ]
  },
  {
   "cell_type": "code",
   "execution_count": null,
   "metadata": {},
   "outputs": [],
   "source": [
    "fold_means_new = trainer_new.predict_cv(X=test_df)\n",
    "fold_means_new = pd.DataFrame(fold_means_new)\n",
    "fold_means_new"
   ]
  },
  {
   "cell_type": "code",
   "execution_count": null,
   "metadata": {},
   "outputs": [],
   "source": [
    "# check if the loaded model is the same as the original one\n",
    "all(fold_means == fold_means_new)"
   ]
  }
 ],
 "metadata": {
  "kernelspec": {
   "display_name": ".venv",
   "language": "python",
   "name": "python3"
  },
  "language_info": {
   "codemirror_mode": {
    "name": "ipython",
    "version": 3
   },
   "file_extension": ".py",
   "mimetype": "text/x-python",
   "name": "python",
   "nbconvert_exporter": "python",
   "pygments_lexer": "ipython3",
   "version": "3.11.6"
  }
 },
 "nbformat": 4,
 "nbformat_minor": 2
}
